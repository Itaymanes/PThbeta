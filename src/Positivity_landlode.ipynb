{
 "cells": [
  {
   "cell_type": "code",
   "execution_count": 1,
   "metadata": {},
   "outputs": [],
   "source": [
    "import pickle\n",
    "import matplotlib.pyplot as plt\n",
    "import pandas as pd\n",
    "import numpy as np\n",
    "from hBeta import PThBeta\n",
    "import seaborn as sns\n",
    "import pathlib\n",
    "import collections\n",
    "from utils.utils_func import load_database, _inv_transform, sample_pca_residuals_distribution, save_xls\n",
    "from preprocessing import epi_year_cases_matrix\n",
    "import matplotlib.lines as mlines\n",
    "from collections import defaultdict\n",
    "from utils.utils_func import _sim_square_pos\n",
    "from lalonde import _load_lalonde\n",
    "from sklearn.linear_model import LogisticRegression, LinearRegression, Lasso\n",
    "from sklearn.ensemble import RandomForestClassifier\n",
    "from sklearn.decomposition import PCA\n",
    "from causallib.estimation import StratifiedStandardization, Standardization\n",
    "from sklearn.ensemble import RandomForestRegressor\n",
    "from utils.utils_summary import _load_pickle, _dyadic_cube_to_samples, _dyadic_prediction, _dyadic_cube_to_samples222\n",
    "\n",
    "\n",
    "sns.set_style(\"whitegrid\")"
   ]
  },
  {
   "cell_type": "markdown",
   "metadata": {},
   "source": [
    "### Load dataset - lalonde (1986) & pickle file of trained hBeta"
   ]
  },
  {
   "cell_type": "code",
   "execution_count": 2,
   "metadata": {},
   "outputs": [
    {
     "name": "stdout",
     "output_type": "stream",
     "text": [
      "(22106, 10)\n"
     ]
    }
   ],
   "source": [
    "dataset = 'X_lalonde'\n",
    "X, y, a = _load_lalonde()\n",
    "d_res, d_info = _load_pickle(file=('2_8_1_org'))"
   ]
  },
  {
   "cell_type": "code",
   "execution_count": 3,
   "metadata": {},
   "outputs": [],
   "source": [
    "d_res, d_info = _load_pickle(file=('3_9_1_org_std'))"
   ]
  },
  {
   "cell_type": "code",
   "execution_count": 4,
   "metadata": {},
   "outputs": [
    {
     "data": {
      "text/html": [
       "<div>\n",
       "<style scoped>\n",
       "    .dataframe tbody tr th:only-of-type {\n",
       "        vertical-align: middle;\n",
       "    }\n",
       "\n",
       "    .dataframe tbody tr th {\n",
       "        vertical-align: top;\n",
       "    }\n",
       "\n",
       "    .dataframe thead th {\n",
       "        text-align: right;\n",
       "    }\n",
       "</style>\n",
       "<table border=\"1\" class=\"dataframe\">\n",
       "  <thead>\n",
       "    <tr style=\"text-align: right;\">\n",
       "      <th></th>\n",
       "      <th>y</th>\n",
       "      <th>a</th>\n",
       "      <th>prop</th>\n",
       "      <th>prop_RCT</th>\n",
       "    </tr>\n",
       "  </thead>\n",
       "  <tbody>\n",
       "    <tr>\n",
       "      <th>16827</th>\n",
       "      <td>31.03226</td>\n",
       "      <td>0.0</td>\n",
       "      <td>0</td>\n",
       "      <td>0</td>\n",
       "    </tr>\n",
       "    <tr>\n",
       "      <th>5412</th>\n",
       "      <td>19562.14000</td>\n",
       "      <td>0.0</td>\n",
       "      <td>0</td>\n",
       "      <td>0</td>\n",
       "    </tr>\n",
       "    <tr>\n",
       "      <th>15399</th>\n",
       "      <td>25564.67000</td>\n",
       "      <td>0.0</td>\n",
       "      <td>0</td>\n",
       "      <td>0</td>\n",
       "    </tr>\n",
       "    <tr>\n",
       "      <th>13077</th>\n",
       "      <td>18814.41000</td>\n",
       "      <td>0.0</td>\n",
       "      <td>0</td>\n",
       "      <td>0</td>\n",
       "    </tr>\n",
       "    <tr>\n",
       "      <th>2189</th>\n",
       "      <td>0.00000</td>\n",
       "      <td>0.0</td>\n",
       "      <td>0</td>\n",
       "      <td>0</td>\n",
       "    </tr>\n",
       "    <tr>\n",
       "      <th>...</th>\n",
       "      <td>...</td>\n",
       "      <td>...</td>\n",
       "      <td>...</td>\n",
       "      <td>...</td>\n",
       "    </tr>\n",
       "    <tr>\n",
       "      <th>11964</th>\n",
       "      <td>678.27650</td>\n",
       "      <td>0.0</td>\n",
       "      <td>0</td>\n",
       "      <td>0</td>\n",
       "    </tr>\n",
       "    <tr>\n",
       "      <th>21575</th>\n",
       "      <td>1053.61900</td>\n",
       "      <td>0.0</td>\n",
       "      <td>0</td>\n",
       "      <td>0</td>\n",
       "    </tr>\n",
       "    <tr>\n",
       "      <th>5390</th>\n",
       "      <td>21731.45000</td>\n",
       "      <td>0.0</td>\n",
       "      <td>0</td>\n",
       "      <td>0</td>\n",
       "    </tr>\n",
       "    <tr>\n",
       "      <th>860</th>\n",
       "      <td>13151.76700</td>\n",
       "      <td>0.0</td>\n",
       "      <td>0</td>\n",
       "      <td>0</td>\n",
       "    </tr>\n",
       "    <tr>\n",
       "      <th>15795</th>\n",
       "      <td>22065.41000</td>\n",
       "      <td>0.0</td>\n",
       "      <td>0</td>\n",
       "      <td>0</td>\n",
       "    </tr>\n",
       "  </tbody>\n",
       "</table>\n",
       "<p>22106 rows × 4 columns</p>\n",
       "</div>"
      ],
      "text/plain": [
       "                 y    a  prop  prop_RCT\n",
       "16827     31.03226  0.0     0         0\n",
       "5412   19562.14000  0.0     0         0\n",
       "15399  25564.67000  0.0     0         0\n",
       "13077  18814.41000  0.0     0         0\n",
       "2189       0.00000  0.0     0         0\n",
       "...            ...  ...   ...       ...\n",
       "11964    678.27650  0.0     0         0\n",
       "21575   1053.61900  0.0     0         0\n",
       "5390   21731.45000  0.0     0         0\n",
       "860    13151.76700  0.0     0         0\n",
       "15795  22065.41000  0.0     0         0\n",
       "\n",
       "[22106 rows x 4 columns]"
      ]
     },
     "execution_count": 4,
     "metadata": {},
     "output_type": "execute_result"
    }
   ],
   "source": [
    "df_ipw = pd.DataFrame({'y':y, 'a':a})\n",
    "df_ipw['prop'] = 0\n",
    "df_ipw['prop_RCT'] = 0\n",
    "df_ipw"
   ]
  },
  {
   "cell_type": "code",
   "execution_count": 4,
   "metadata": {},
   "outputs": [
    {
     "data": {
      "text/plain": [
       "{'data': 'lalonde',\n",
       " 'dim': 2,\n",
       " 'seg_1dim': 5,\n",
       " 'n_pts': 1000,\n",
       " 'a_0': 1.0,\n",
       " 'gamma': 0.1,\n",
       " 'plot_pred': True,\n",
       " 'transform': 'org',\n",
       " 'loo': False,\n",
       " 'positivity': True,\n",
       " 'level': 10}"
      ]
     },
     "execution_count": 4,
     "metadata": {},
     "output_type": "execute_result"
    }
   ],
   "source": [
    "d_res, d_info = _load_pickle(file=('2_10_1_org'))\n",
    "# d_res, d_info = _load_pickle(file=('3_9_0.1_org'))\n",
    "d_info"
   ]
  },
  {
   "cell_type": "code",
   "execution_count": 5,
   "metadata": {},
   "outputs": [],
   "source": [
    "tr_prop, cr_prop = np.mean(a), 1-np.mean(a)\n",
    "df = pd.DataFrame({'control': d_res['control']['pi'], 'treated': d_res['treated']['pi']})\n",
    "df_sum_y = np.sum(df, axis=1)\n",
    "propensity = (df['treated'] * tr_prop) / (df['control'] * cr_prop + df['treated'] * tr_prop)\n",
    "propensity_RCT = (df['treated'] * 0.5) / (df['control'] * 0.5 + df['treated'] * 0.5)"
   ]
  },
  {
   "cell_type": "code",
   "execution_count": 6,
   "metadata": {
    "scrolled": true
   },
   "outputs": [
    {
     "data": {
      "text/html": [
       "<div>\n",
       "<style scoped>\n",
       "    .dataframe tbody tr th:only-of-type {\n",
       "        vertical-align: middle;\n",
       "    }\n",
       "\n",
       "    .dataframe tbody tr th {\n",
       "        vertical-align: top;\n",
       "    }\n",
       "\n",
       "    .dataframe thead th {\n",
       "        text-align: right;\n",
       "    }\n",
       "</style>\n",
       "<table border=\"1\" class=\"dataframe\">\n",
       "  <thead>\n",
       "    <tr style=\"text-align: right;\">\n",
       "      <th></th>\n",
       "      <th>control</th>\n",
       "      <th>treated</th>\n",
       "    </tr>\n",
       "  </thead>\n",
       "  <tbody>\n",
       "    <tr>\n",
       "      <th>78</th>\n",
       "      <td>0.740234</td>\n",
       "      <td>0.947299</td>\n",
       "    </tr>\n",
       "    <tr>\n",
       "      <th>149</th>\n",
       "      <td>0.231079</td>\n",
       "      <td>0.000180</td>\n",
       "    </tr>\n",
       "    <tr>\n",
       "      <th>150</th>\n",
       "      <td>0.017624</td>\n",
       "      <td>0.001375</td>\n",
       "    </tr>\n",
       "  </tbody>\n",
       "</table>\n",
       "</div>"
      ],
      "text/plain": [
       "      control   treated\n",
       "78   0.740234  0.947299\n",
       "149  0.231079  0.000180\n",
       "150  0.017624  0.001375"
      ]
     },
     "execution_count": 6,
     "metadata": {},
     "output_type": "execute_result"
    },
    {
     "data": {
      "image/png": "[encoded data removed]",
      "text/plain": [
       "<Figure size 432x288 with 1 Axes>"
      ]
     },
     "metadata": {},
     "output_type": "display_data"
    }
   ],
   "source": [
    "plt.plot(df.loc[np.sum(df > 0.005,axis=1) > 0, :]['control'])\n",
    "plt.plot(df.loc[np.sum(df > 0.005,axis=1) > 0, :]['treated'])\n",
    "df.loc[np.sum(df > 0.005,axis=1) > 0, :].head()"
   ]
  },
  {
   "cell_type": "markdown",
   "metadata": {},
   "source": [
    "#### Set the space for the full X (treated and control), same cubes that were on the training process"
   ]
  },
  {
   "cell_type": "code",
   "execution_count": 7,
   "metadata": {},
   "outputs": [
    {
     "name": "stdout",
     "output_type": "stream",
     "text": [
      "[9.33578986e-01 6.64205150e-02 4.92263562e-07]\n"
     ]
    }
   ],
   "source": [
    "pca = PCA(n_components=d_info['dim'])\n",
    "principalComponents = pd.DataFrame(pca.fit_transform(X), index=X.index)\n",
    "pca_full = pd.DataFrame(principalComponents)\n",
    "print(pca.explained_variance_ratio_)\n",
    "\n",
    "pt = PThBeta(seg_1dim=d_info['seg_1dim'])\n",
    "pt.set_int_coords(data=pca_full, gamma=d_info['gamma'], sup_01=False)"
   ]
  },
  {
   "cell_type": "code",
   "execution_count": 8,
   "metadata": {},
   "outputs": [
    {
     "data": {
      "text/html": [
       "<div>\n",
       "<style scoped>\n",
       "    .dataframe tbody tr th:only-of-type {\n",
       "        vertical-align: middle;\n",
       "    }\n",
       "\n",
       "    .dataframe tbody tr th {\n",
       "        vertical-align: top;\n",
       "    }\n",
       "\n",
       "    .dataframe thead th {\n",
       "        text-align: right;\n",
       "    }\n",
       "</style>\n",
       "<table border=\"1\" class=\"dataframe\">\n",
       "  <thead>\n",
       "    <tr style=\"text-align: right;\">\n",
       "      <th></th>\n",
       "      <th>full</th>\n",
       "      <th>control</th>\n",
       "      <th>treatment</th>\n",
       "      <th>prop</th>\n",
       "      <th>prop_RCT</th>\n",
       "    </tr>\n",
       "  </thead>\n",
       "  <tbody>\n",
       "    <tr>\n",
       "      <th>220</th>\n",
       "      <td>14</td>\n",
       "      <td>14</td>\n",
       "      <td>0</td>\n",
       "      <td>0.000483</td>\n",
       "      <td>0.054188</td>\n",
       "    </tr>\n",
       "    <tr>\n",
       "      <th>221</th>\n",
       "      <td>3</td>\n",
       "      <td>3</td>\n",
       "      <td>0</td>\n",
       "      <td>0.002236</td>\n",
       "      <td>0.209896</td>\n",
       "    </tr>\n",
       "    <tr>\n",
       "      <th>148</th>\n",
       "      <td>1</td>\n",
       "      <td>1</td>\n",
       "      <td>0</td>\n",
       "      <td>0.009938</td>\n",
       "      <td>0.543174</td>\n",
       "    </tr>\n",
       "    <tr>\n",
       "      <th>157</th>\n",
       "      <td>2</td>\n",
       "      <td>2</td>\n",
       "      <td>0</td>\n",
       "      <td>0.011112</td>\n",
       "      <td>0.571169</td>\n",
       "    </tr>\n",
       "    <tr>\n",
       "      <th>156</th>\n",
       "      <td>1111</td>\n",
       "      <td>1111</td>\n",
       "      <td>0</td>\n",
       "      <td>0.035331</td>\n",
       "      <td>0.812999</td>\n",
       "    </tr>\n",
       "    <tr>\n",
       "      <th>84</th>\n",
       "      <td>1</td>\n",
       "      <td>1</td>\n",
       "      <td>0</td>\n",
       "      <td>0.097199</td>\n",
       "      <td>0.927384</td>\n",
       "    </tr>\n",
       "    <tr>\n",
       "      <th>204</th>\n",
       "      <td>1</td>\n",
       "      <td>1</td>\n",
       "      <td>0</td>\n",
       "      <td>0.123153</td>\n",
       "      <td>0.942974</td>\n",
       "    </tr>\n",
       "    <tr>\n",
       "      <th>92</th>\n",
       "      <td>4587</td>\n",
       "      <td>4545</td>\n",
       "      <td>42</td>\n",
       "      <td>0.138842</td>\n",
       "      <td>0.950655</td>\n",
       "    </tr>\n",
       "    <tr>\n",
       "      <th>293</th>\n",
       "      <td>1</td>\n",
       "      <td>1</td>\n",
       "      <td>0</td>\n",
       "      <td>0.244109</td>\n",
       "      <td>0.974740</td>\n",
       "    </tr>\n",
       "    <tr>\n",
       "      <th>227</th>\n",
       "      <td>7</td>\n",
       "      <td>7</td>\n",
       "      <td>0</td>\n",
       "      <td>0.251119</td>\n",
       "      <td>0.975651</td>\n",
       "    </tr>\n",
       "    <tr>\n",
       "      <th>163</th>\n",
       "      <td>410</td>\n",
       "      <td>410</td>\n",
       "      <td>0</td>\n",
       "      <td>0.253793</td>\n",
       "      <td>0.975985</td>\n",
       "    </tr>\n",
       "    <tr>\n",
       "      <th>162</th>\n",
       "      <td>383</td>\n",
       "      <td>383</td>\n",
       "      <td>0</td>\n",
       "      <td>0.269219</td>\n",
       "      <td>0.975818</td>\n",
       "    </tr>\n",
       "    <tr>\n",
       "      <th>226</th>\n",
       "      <td>2</td>\n",
       "      <td>2</td>\n",
       "      <td>0</td>\n",
       "      <td>0.288170</td>\n",
       "      <td>0.979746</td>\n",
       "    </tr>\n",
       "    <tr>\n",
       "      <th>235</th>\n",
       "      <td>1</td>\n",
       "      <td>1</td>\n",
       "      <td>0</td>\n",
       "      <td>0.288584</td>\n",
       "      <td>0.979786</td>\n",
       "    </tr>\n",
       "    <tr>\n",
       "      <th>219</th>\n",
       "      <td>20</td>\n",
       "      <td>20</td>\n",
       "      <td>0</td>\n",
       "      <td>0.289343</td>\n",
       "      <td>0.978822</td>\n",
       "    </tr>\n",
       "    <tr>\n",
       "      <th>171</th>\n",
       "      <td>1</td>\n",
       "      <td>1</td>\n",
       "      <td>0</td>\n",
       "      <td>0.291421</td>\n",
       "      <td>0.980057</td>\n",
       "    </tr>\n",
       "    <tr>\n",
       "      <th>99</th>\n",
       "      <td>2011</td>\n",
       "      <td>1999</td>\n",
       "      <td>12</td>\n",
       "      <td>0.291985</td>\n",
       "      <td>0.978342</td>\n",
       "    </tr>\n",
       "    <tr>\n",
       "      <th>218</th>\n",
       "      <td>1</td>\n",
       "      <td>1</td>\n",
       "      <td>0</td>\n",
       "      <td>0.300335</td>\n",
       "      <td>0.980877</td>\n",
       "    </tr>\n",
       "    <tr>\n",
       "      <th>154</th>\n",
       "      <td>1408</td>\n",
       "      <td>1408</td>\n",
       "      <td>0</td>\n",
       "      <td>0.306858</td>\n",
       "      <td>0.981447</td>\n",
       "    </tr>\n",
       "    <tr>\n",
       "      <th>155</th>\n",
       "      <td>1771</td>\n",
       "      <td>1771</td>\n",
       "      <td>0</td>\n",
       "      <td>0.307110</td>\n",
       "      <td>0.981469</td>\n",
       "    </tr>\n",
       "  </tbody>\n",
       "</table>\n",
       "</div>"
      ],
      "text/plain": [
       "     full  control  treatment      prop  prop_RCT\n",
       "220    14       14          0  0.000483  0.054188\n",
       "221     3        3          0  0.002236  0.209896\n",
       "148     1        1          0  0.009938  0.543174\n",
       "157     2        2          0  0.011112  0.571169\n",
       "156  1111     1111          0  0.035331  0.812999\n",
       "84      1        1          0  0.097199  0.927384\n",
       "204     1        1          0  0.123153  0.942974\n",
       "92   4587     4545         42  0.138842  0.950655\n",
       "293     1        1          0  0.244109  0.974740\n",
       "227     7        7          0  0.251119  0.975651\n",
       "163   410      410          0  0.253793  0.975985\n",
       "162   383      383          0  0.269219  0.975818\n",
       "226     2        2          0  0.288170  0.979746\n",
       "235     1        1          0  0.288584  0.979786\n",
       "219    20       20          0  0.289343  0.978822\n",
       "171     1        1          0  0.291421  0.980057\n",
       "99   2011     1999         12  0.291985  0.978342\n",
       "218     1        1          0  0.300335  0.980877\n",
       "154  1408     1408          0  0.306858  0.981447\n",
       "155  1771     1771          0  0.307110  0.981469"
      ]
     },
     "execution_count": 8,
     "metadata": {},
     "output_type": "execute_result"
    }
   ],
   "source": [
    "dyadic_sample = _dyadic_cube_to_samples(pca_full, pt)\n",
    "dyadic_counts = defaultdict(dict)\n",
    "for key in np.arange(2 ** d_info['level']):\n",
    "    if dyadic_sample[key].shape[0] == 0:\n",
    "        dyadic_sample.pop(key, None)\n",
    "    else: \n",
    "        dyadic_counts['full'][key] = dyadic_sample[key].shape[0]\n",
    "        dyadic_counts['control'][key] = np.sum(a.iloc[dyadic_sample[key]] == 0.0) # I changed to loc insted of iloc\n",
    "        dyadic_counts['treatment'][key] = np.sum(a.iloc[dyadic_sample[key]] == 1.0) # I changed to loc insted of iloc\n",
    "        #  add this in order to compute IPTW\n",
    "        ind_c = dyadic_sample[key]\n",
    "#         ind_t = a.iloc[dyadic_sample[key]].index[(a.iloc[dyadic_sample[key]] == 1.0).values]\n",
    "        df_ipw.loc[ind_c, 'prop'] =  propensity[key]\n",
    "        df_ipw.loc[ind_c, 'prop_RCT'] =  propensity_RCT[key]\n",
    "\n",
    "df_counts = pd.DataFrame.from_dict(dyadic_counts)\n",
    "df_counts['prop'] = propensity.iloc[df_counts.index]\n",
    "df_counts['prop_RCT'] = propensity_RCT.iloc[df_counts.index]\n",
    "df_counts.sort_values(by='prop', ascending=True).iloc[:20,:]"
   ]
  },
  {
   "cell_type": "code",
   "execution_count": 72,
   "metadata": {},
   "outputs": [],
   "source": [
    "df_ipw_clipped = df_ipw.loc[df_ipw['prop'] > 0.05, : ]\n",
    "\n"
   ]
  },
  {
   "cell_type": "code",
   "execution_count": 74,
   "metadata": {},
   "outputs": [
    {
     "data": {
      "text/plain": [
       "-20890.57878849678"
      ]
     },
     "execution_count": 74,
     "metadata": {},
     "output_type": "execute_result"
    }
   ],
   "source": [
    "# IPW\n",
    "\n",
    "np.mean((df_ipw['y'] * df_ipw['a']) / (df_ipw['prop']) - (df_ipw['y'] * (1-df_ipw['a'])) / (1-df_ipw['prop']))"
   ]
  },
  {
   "cell_type": "code",
   "execution_count": 59,
   "metadata": {},
   "outputs": [
    {
     "data": {
      "text/plain": [
       "21169.626279591652"
      ]
     },
     "execution_count": 59,
     "metadata": {},
     "output_type": "execute_result"
    }
   ],
   "source": [
    "# Stabelized IPW\n",
    "\n",
    "mu_1 = ((df_ipw['y'] * df_ipw['a']) / (df_ipw['prop'])) / (np.sum(df_ipw['a'] / df_ipw['prop']))\n",
    "mu_0 = ((df_ipw['y'] * df_ipw['a']) / (df_ipw['prop'])) / (np.sum(df_ipw['a'] / df_ipw['prop']))\n",
    "\n",
    "np.mean((df_ipw['y'] * (1-df_ipw['a'])) / (1-df_ipw['prop']))"
   ]
  },
  {
   "cell_type": "code",
   "execution_count": 60,
   "metadata": {},
   "outputs": [
    {
     "data": {
      "text/plain": [
       "0.2819227414252747"
      ]
     },
     "execution_count": 60,
     "metadata": {},
     "output_type": "execute_result"
    }
   ],
   "source": [
    "np.mean(mu_1)"
   ]
  },
  {
   "cell_type": "code",
   "execution_count": 11,
   "metadata": {},
   "outputs": [
    {
     "data": {
      "image/png": "[encoded data removed]",
      "text/plain": [
       "<Figure size 864x576 with 1 Axes>"
      ]
     },
     "metadata": {},
     "output_type": "display_data"
    }
   ],
   "source": [
    "bins = np.arange(0.025, 0.975, 0.05)\n",
    "\n",
    "top0, _ = np.histogram(df_ipw.loc[df_ipw['a']==0, 'prop'], bins=bins, density=True)\n",
    "top1, _ = np.histogram(df_ipw.loc[df_ipw['a']==1, 'prop'], bins=bins, density=True)\n",
    "\n",
    "fig, ax = plt.subplots(figsize=(12, 8))\n",
    "\n",
    "ax.set_ylim(-10, 10)\n",
    "\n",
    "ax.axhline(0, c='gray', linewidth=1)\n",
    "\n",
    "bars0 = ax.bar(bins[:-1] + 0.025, top0, width=0.04, facecolor='white')\n",
    "bars1 = ax.bar(bins[:-1] + 0.025, -top1, width=0.04, facecolor='gray')\n",
    "\n",
    "for bars in (bars0, bars1):\n",
    "    for bar in bars:\n",
    "        bar.set_edgecolor(\"gray\")\n",
    "\n",
    "for x_, y_ in zip(bins, top0):\n",
    "    ax.text(x_ + 0.025, y_ + 1, str(round(y_,2)), ha='center', va='bottom')\n",
    "\n",
    "for x_, y_ in zip(bins, top1):\n",
    "    ax.text(x_ + 0.025, -y_ - 1, str(round(y_,2)), ha='center', va='top')\n",
    "\n",
    "ax.text(0.9,  8, \"A = 0\")\n",
    "ax.text(0.9, -8, \"A = 1\")\n",
    "\n",
    "ax.set_ylabel(\"normalized No. Subjects\", fontsize=14)\n",
    "ax.set_xlabel(\"Estimated Propensity Score\", fontsize=14);\n"
   ]
  },
  {
   "cell_type": "code",
   "execution_count": 13,
   "metadata": {},
   "outputs": [
    {
     "data": {
      "text/plain": [
       "0.49900978803634644"
      ]
     },
     "execution_count": 13,
     "metadata": {},
     "output_type": "execute_result"
    }
   ],
   "source": [
    "df_ipw['prop'].max()"
   ]
  },
  {
   "cell_type": "code",
   "execution_count": 14,
   "metadata": {},
   "outputs": [],
   "source": [
    "cond_0 = df_ipw.loc[:,'a'] == 0\n",
    "cond = df_ipw.loc[:,'a'] == 1\n",
    "\n",
    "df_ipw['a'] = a\n",
    "df_ipw.loc[cond_0, 'weight'] = 1/ (1-df_ipw['prop'])\n",
    "df_ipw.loc[cond, 'weight'] = 1/ df_ipw['prop']\n",
    "df_ipw.loc[cond_0, 'weight_RCT'] = 1/ (1-df_ipw['prop_RCT'])\n",
    "df_ipw.loc[cond, 'weight_RCT'] = 1/ df_ipw['prop_RCT']"
   ]
  },
  {
   "cell_type": "code",
   "execution_count": 15,
   "metadata": {},
   "outputs": [
    {
     "data": {
      "text/plain": [
       "16827    True\n",
       "5412     True\n",
       "15399    True\n",
       "13077    True\n",
       "2189     True\n",
       "         ... \n",
       "11964    True\n",
       "21575    True\n",
       "5390     True\n",
       "860      True\n",
       "15795    True\n",
       "Name: prop, Length: 22106, dtype: bool"
      ]
     },
     "execution_count": 15,
     "metadata": {},
     "output_type": "execute_result"
    }
   ],
   "source": [
    "df_ipw['prop'] > 0.01"
   ]
  },
  {
   "cell_type": "code",
   "execution_count": 17,
   "metadata": {},
   "outputs": [
    {
     "data": {
      "text/plain": [
       "11995.627499401173"
      ]
     },
     "execution_count": 17,
     "metadata": {},
     "output_type": "execute_result"
    }
   ],
   "source": [
    "\n",
    "mu_0 = np.mean(df_ipw.loc[cond_0, 'y'] * df_ipw.loc[cond_0, 'weight'])\n",
    "mu_1 = np.mean(df_ipw.loc[cond, 'y'] * df_ipw.loc[cond, 'weight'])\n",
    "\n",
    "mu_1 - mu_0 "
   ]
  },
  {
   "cell_type": "code",
   "execution_count": 18,
   "metadata": {},
   "outputs": [
    {
     "data": {
      "text/plain": [
       "21348.2851392114"
      ]
     },
     "execution_count": 18,
     "metadata": {},
     "output_type": "execute_result"
    }
   ],
   "source": [
    "mu_0"
   ]
  },
  {
   "cell_type": "code",
   "execution_count": 19,
   "metadata": {},
   "outputs": [
    {
     "data": {
      "text/plain": [
       "<matplotlib.legend.Legend at 0x1d92eb0ae08>"
      ]
     },
     "execution_count": 19,
     "metadata": {},
     "output_type": "execute_result"
    },
    {
     "data": {
      "image/png": "[encoded data removed]",
      "text/plain": [
       "<Figure size 864x432 with 1 Axes>"
      ]
     },
     "metadata": {},
     "output_type": "display_data"
    }
   ],
   "source": [
    "plt.subplots(figsize=(12,6))\n",
    "plt.scatter(x=np.log(df_counts['full']), y=df_counts['prop'], label='propensity')\n",
    "plt.scatter(x=np.log(df_counts['full']), y=df_counts['prop_RCT'], label='propensity_RCT')\n",
    "plt.xlabel('$\\log(obs)$')\n",
    "plt.ylabel('Probability to be treated')\n",
    "plt.legend()"
   ]
  },
  {
   "cell_type": "code",
   "execution_count": 80,
   "metadata": {},
   "outputs": [
    {
     "name": "stdout",
     "output_type": "stream",
     "text": [
      "treated:185.0, control:21921, th:0.000000\n",
      "treated:185.0, control:21904, th:0.008016\n",
      "treated:185.0, control:21901, th:0.016032\n",
      "treated:185.0, control:21901, th:0.024048\n",
      "treated:185.0, control:21901, th:0.032064\n",
      "treated:185.0, control:20790, th:0.040080\n",
      "treated:185.0, control:20790, th:0.048096\n",
      "treated:185.0, control:20790, th:0.056112\n",
      "treated:185.0, control:20790, th:0.064128\n",
      "treated:185.0, control:20790, th:0.072144\n",
      "treated:185.0, control:20790, th:0.080160\n",
      "treated:185.0, control:20790, th:0.088176\n",
      "treated:185.0, control:20790, th:0.096192\n",
      "treated:185.0, control:20789, th:0.104208\n",
      "treated:185.0, control:20789, th:0.112224\n",
      "treated:185.0, control:20789, th:0.120240\n",
      "treated:185.0, control:20788, th:0.128257\n",
      "treated:185.0, control:20788, th:0.136273\n",
      "treated:143.0, control:16243, th:0.144289\n",
      "treated:143.0, control:16243, th:0.152305\n",
      "treated:143.0, control:16243, th:0.160321\n",
      "treated:143.0, control:16243, th:0.168337\n",
      "treated:143.0, control:16243, th:0.176353\n",
      "treated:143.0, control:16243, th:0.184369\n",
      "treated:143.0, control:16243, th:0.192385\n",
      "treated:143.0, control:16243, th:0.200401\n",
      "treated:143.0, control:16243, th:0.208417\n",
      "treated:143.0, control:16243, th:0.216433\n",
      "treated:143.0, control:16243, th:0.224449\n",
      "treated:143.0, control:16243, th:0.232465\n",
      "treated:143.0, control:16243, th:0.240481\n",
      "treated:143.0, control:16242, th:0.248497\n",
      "treated:143.0, control:15825, th:0.256513\n",
      "treated:143.0, control:15825, th:0.264529\n",
      "treated:143.0, control:15442, th:0.272545\n",
      "treated:143.0, control:15442, th:0.280561\n",
      "treated:143.0, control:15440, th:0.288577\n",
      "treated:131.0, control:13419, th:0.296593\n",
      "treated:131.0, control:13418, th:0.304609\n",
      "treated:131.0, control:10203, th:0.312625\n",
      "treated:131.0, control:8951, th:0.320641\n",
      "treated:131.0, control:8936, th:0.328657\n",
      "treated:131.0, control:8929, th:0.336673\n",
      "treated:131.0, control:8912, th:0.344689\n",
      "treated:130.0, control:8560, th:0.352705\n",
      "treated:130.0, control:8193, th:0.360721\n",
      "treated:130.0, control:8185, th:0.368737\n",
      "treated:130.0, control:8181, th:0.376754\n",
      "treated:18.0, control:2025, th:0.384770\n",
      "treated:18.0, control:2025, th:0.392786\n"
     ]
    }
   ],
   "source": [
    "est = StratifiedStandardization(LinearRegression()) #\n",
    "avg_outcome_dict = defaultdict(dict)\n",
    "th = np.linspace(0, 0.02, 500) # 0.03\n",
    "for ind, t in enumerate(th):\n",
    "    cond = (df_counts['prop'] > t) ###OPOSITE DIRECTION #| ((1 - df_counts['prop_RCT']) < t) \n",
    "    keys_cond = cond[cond == True].index\n",
    "    cc = np.array([])\n",
    "    for key in keys_cond:\n",
    "        cc = np.append(cc, dyadic_sample[key])\n",
    "    X_tilde, a_tilde, y_tilde = X.iloc[cc,:], a.iloc[cc], y.iloc[cc]\n",
    "    if (ind % 10) == 0:\n",
    "        print(\"treated:{}, control:{}, th:{:f}\".format(np.sum(a_tilde), np.sum(a_tilde==0), t))\n",
    "    est.fit(X=X_tilde, a=a_tilde, y=y_tilde)\n",
    "    avg_outcomes = est.estimate_population_outcome(X_tilde, a_tilde)\n",
    "    avg_outcome_dict['control'][t] = avg_outcomes.iloc[0]\n",
    "    avg_outcome_dict['treatment'][t] = avg_outcomes.iloc[1]\n",
    "df_avg_outcomes = pd.DataFrame.from_dict(avg_outcome_dict)\n",
    "# avg_outcomes"
   ]
  },
  {
   "cell_type": "code",
   "execution_count": 81,
   "metadata": {},
   "outputs": [
    {
     "data": {
      "text/plain": [
       "<matplotlib.legend.Legend at 0x1d930057f48>"
      ]
     },
     "execution_count": 81,
     "metadata": {},
     "output_type": "execute_result"
    },
    {
     "data": {
      "image/png": "[encoded data removed]",
      "text/plain": [
       "<Figure size 864x432 with 1 Axes>"
      ]
     },
     "metadata": {},
     "output_type": "display_data"
    }
   ],
   "source": [
    "plt.subplots(figsize=(12,6))\n",
    "plt.plot(df_avg_outcomes.index, df_avg_outcomes['control'], label='control', c='b')\n",
    "plt.plot(df_avg_outcomes.index, df_avg_outcomes['treatment'], label='treatment', c='g')\n",
    "plt.legend()"
   ]
  },
  {
   "cell_type": "markdown",
   "metadata": {},
   "source": [
    "$E[E[Y|X=x,A=1]]$ , $E[E[Y|X=x,A=0]]$"
   ]
  },
  {
   "cell_type": "markdown",
   "metadata": {},
   "source": [
    "### Inclusion criteria"
   ]
  },
  {
   "cell_type": "code",
   "execution_count": 82,
   "metadata": {},
   "outputs": [],
   "source": [
    "cond = (df_counts['prop'] > 0.01) ###OPOSITE DIRECTION #| ((1 - df_counts['prop_RCT']) < t) \n",
    "avg_keys_treated, avg_keys_control = dict(), dict()\n",
    "keys_cond = cond[cond == True].index\n",
    "cc = np.array([])\n",
    "for key in keys_cond:\n",
    "    cc = np.append(cc, dyadic_sample[key])\n",
    "    # temp var\n",
    "    k = (a.iloc[dyadic_sample[key]] == 0).reset_index()\n",
    "    ind_cr = k.loc[(k['training'] == True).values, :]['index']\n",
    "    ind_tr = k.loc[(k['training'] == False).values, :]['index']\n",
    "    avg_keys_treated[key] = np.mean(y.loc[ind_tr])\n",
    "    avg_keys_control[key] = np.mean(y.loc[ind_cr])\n",
    "X_tilde, a_tilde, y_tilde = X.iloc[cc,:], a.iloc[cc], y.iloc[cc]"
   ]
  },
  {
   "cell_type": "code",
   "execution_count": 83,
   "metadata": {},
   "outputs": [
    {
     "data": {
      "text/plain": [
       "(array([5.965e+03, 2.740e+03, 3.119e+03, 3.045e+03, 6.462e+03, 3.240e+02,\n",
       "        1.910e+02, 9.200e+01, 6.000e+01, 2.400e+01, 1.500e+01, 9.000e+00,\n",
       "        1.400e+01, 9.000e+00, 5.000e+00, 0.000e+00, 6.000e+00, 4.000e+00,\n",
       "        1.000e+00, 0.000e+00, 1.000e+00, 2.000e+00]),\n",
       " array([     0.  ,   5507.89,  11015.78,  16523.67,  22031.56,  27539.45,\n",
       "         33047.34,  38555.23,  44063.12,  49571.01,  55078.9 ,  60586.79,\n",
       "         66094.68,  71602.57,  77110.46,  82618.35,  88126.24,  93634.13,\n",
       "         99142.02, 104649.91, 110157.8 , 115665.69, 121173.58]),\n",
       " <BarContainer object of 22 artists>)"
      ]
     },
     "execution_count": 83,
     "metadata": {},
     "output_type": "execute_result"
    },
    {
     "data": {
      "image/png": "[encoded data removed]",
      "text/plain": [
       "<Figure size 432x288 with 1 Axes>"
      ]
     },
     "metadata": {},
     "output_type": "display_data"
    }
   ],
   "source": [
    "plt.hist(y_tilde, bins = 22)"
   ]
  },
  {
   "cell_type": "code",
   "execution_count": 84,
   "metadata": {},
   "outputs": [
    {
     "data": {
      "text/plain": [
       "Text(0.5, 1.0, 'Propensity score at the subspace of $X_{PCA}$\\n(in white-cells with observations)')"
      ]
     },
     "execution_count": 84,
     "metadata": {},
     "output_type": "execute_result"
    },
    {
     "data": {
      "image/png": "[encoded data removed]",
      "text/plain": [
       "<Figure size 1296x504 with 4 Axes>"
      ]
     },
     "metadata": {},
     "output_type": "display_data"
    },
    {
     "data": {
      "image/png": "[encoded data removed]",
      "text/plain": [
       "<Figure size 1296x648 with 2 Axes>"
      ]
     },
     "metadata": {},
     "output_type": "display_data"
    }
   ],
   "source": [
    "fig, ax = plt.subplots(ncols= 2, figsize=(18, 7))\n",
    "inc_crit, inc_crit_RCT = np.zeros((pt.intervals_1dim, pt.intervals_1dim)), np.zeros((pt.intervals_1dim, pt.intervals_1dim))\n",
    "for i in range(pt.intervals_1dim * pt.intervals_1dim):\n",
    "    inc_crit_RCT[pt.arr_ind[i, 1], pt.arr_ind[i, 0]] = propensity_RCT[i] \n",
    "    inc_crit[pt.arr_ind[i, 1], pt.arr_ind[i, 0]] = propensity[i] \n",
    "    \n",
    "df_heat, df_heat_RCT = pd.DataFrame(inc_crit), pd.DataFrame(inc_crit_RCT)  \n",
    "ax[0] = sns.heatmap(df_heat, cmap = plt.get_cmap('viridis'), ax=ax[0])\n",
    "ax[1] = sns.heatmap(df_heat_RCT, cmap = plt.get_cmap('viridis'),ax=ax[1])\n",
    "\n",
    "\n",
    "from matplotlib.patches import Rectangle\n",
    "cond = (df_counts['prop'] > 0) ###OPOSITE DIRECTION #| ((1 - df_counts['prop_RCT']) < t) \n",
    "keys_cond = cond[cond == True].index\n",
    "# for key in keys_cond:\n",
    "#     ax[0].add_patch(Rectangle((pt.arr_ind[key, 0], pt.arr_ind[key, 1]), 1, 1, fill=False, edgecolor='white', lw=2))\n",
    "#     ax[1].add_patch(Rectangle((pt.arr_ind[key, 0], pt.arr_ind[key, 1]), 1, 1, fill=False, edgecolor='white', lw=2))\n",
    "\n",
    "ax[0].set_title('Propensity score at the subspace of $X_{PCA}$\\n(in white-cells with observations)')\n",
    "ax[1].set_title('\"RCT Propensity score\" at the subspace of $X_{PCA}$\\n(in white-cells with observations)')\n",
    "\n",
    "\n",
    "# binary - below or above threshold\n",
    "fig, ax = plt.subplots(ncols= 1, figsize=(18, 9))\n",
    "inc_crit, inc_crit_RCT = np.zeros((pt.intervals_1dim, pt.intervals_1dim)), np.zeros((pt.intervals_1dim, pt.intervals_1dim))\n",
    "for i in range(pt.intervals_1dim * pt.intervals_1dim):\n",
    "    inc_crit[pt.arr_ind[i, 1], pt.arr_ind[i, 0]] = propensity[i]>0.01 \n",
    "    \n",
    "df_heat, df_heat_RCT = pd.DataFrame(inc_crit), pd.DataFrame(inc_crit_RCT)  \n",
    "ax = sns.heatmap(df_heat, cmap = plt.get_cmap('viridis'), ax=ax)\n",
    "\n",
    "ax.set_title('Propensity score at the subspace of $X_{PCA}$\\n(in white-cells with observations)')\n"
   ]
  },
  {
   "cell_type": "code",
   "execution_count": 85,
   "metadata": {},
   "outputs": [
    {
     "data": {
      "text/plain": [
       "Text(0.5, 1.0, 'The subspace of $X_{PCA}$\\n(red frame-cells with observed data, yellow-cells which were not omitted')"
      ]
     },
     "execution_count": 85,
     "metadata": {},
     "output_type": "execute_result"
    },
    {
     "data": {
      "image/png": "[encoded data removed]",
      "text/plain": [
       "<Figure size 1440x504 with 4 Axes>"
      ]
     },
     "metadata": {},
     "output_type": "display_data"
    },
    {
     "data": {
      "image/png": "[encoded data removed]",
      "text/plain": [
       "<Figure size 1152x720 with 1 Axes>"
      ]
     },
     "metadata": {},
     "output_type": "display_data"
    }
   ],
   "source": [
    "fig, ax = plt.subplots(ncols= 2, figsize=(20, 7))\n",
    "inc_crit, inc_crit_RCT = np.zeros((pt.intervals_1dim, pt.intervals_1dim)), np.zeros((pt.intervals_1dim, pt.intervals_1dim))\n",
    "for i in range(pt.intervals_1dim * pt.intervals_1dim):\n",
    "    inc_crit_RCT[pt.arr_ind[i, 1], pt.arr_ind[i, 0]] = propensity_RCT[i] \n",
    "    inc_crit[pt.arr_ind[i, 1], pt.arr_ind[i, 0]] = propensity[i] \n",
    "    \n",
    "df_heat, df_heat_RCT = pd.DataFrame(inc_crit), pd.DataFrame(inc_crit_RCT)  \n",
    "ax[0] = sns.heatmap(df_heat, cmap = plt.get_cmap('viridis'), ax=ax[0])\n",
    "ax[1] = sns.heatmap(df_heat_RCT, cmap = plt.get_cmap('viridis'),ax=ax[1])\n",
    "\n",
    "\n",
    "from matplotlib.patches import Rectangle\n",
    "cond = (df_counts['prop'] > 0) ###OPOSITE DIRECTION #| ((1 - df_counts['prop_RCT']) < t) \n",
    "keys_cond = cond[cond == True].index\n",
    "for key in keys_cond:\n",
    "    if df_counts.loc[key, 'treatment'] == 0:\n",
    "        ax[0].add_patch(Rectangle((pt.arr_ind[key, 0], pt.arr_ind[key, 1]), 1, 1, fill=False, edgecolor='red', lw=3))\n",
    "        ax[1].add_patch(Rectangle((pt.arr_ind[key, 0], pt.arr_ind[key, 1]), 1, 1, fill=False, edgecolor='red', lw=3))\n",
    "    else:\n",
    "        ax[0].add_patch(Rectangle((pt.arr_ind[key, 0], pt.arr_ind[key, 1]), 1, 1, fill=False, edgecolor='blue', lw=3))\n",
    "        ax[1].add_patch(Rectangle((pt.arr_ind[key, 0], pt.arr_ind[key, 1]), 1, 1, fill=False, edgecolor='blue', lw=3))\n",
    "ax[0].set_title('Propensity score at the subspace of $X_{PCA}$\\n(in white-cells with observations)')\n",
    "ax[1].set_title('\"RCT Propensity score\" at the subspace of $X_{PCA}$\\n(in white-cells with observations)')\n",
    "# plt.show()\n",
    "\n",
    "\n",
    "fig, ax = plt.subplots(ncols= 1, figsize=(16, 10))\n",
    "inc_crit = np.zeros((pt.intervals_1dim, pt.intervals_1dim))\n",
    "cond = (df_counts['prop'] > 0.01) ###OPOSITE DIRECTION #| ((1 - df_counts['prop_RCT']) < t) \n",
    "keys_cond = cond[cond == True].index\n",
    "for key in keys_cond:\n",
    "    inc_crit[pt.arr_ind[key, 1], pt.arr_ind[key, 0]] = 1 \n",
    "df_heat = pd.DataFrame(inc_crit)  \n",
    "ax = sns.heatmap(df_heat, cmap = plt.get_cmap('viridis'), ax= ax, cbar=False)\n",
    "\n",
    "for ind in df_counts.index:\n",
    "    ax.add_patch(Rectangle((pt.arr_ind[ind, 0], pt.arr_ind[ind, 1]), 1, 1, fill=False, edgecolor='red', lw=3))\n",
    "\n",
    "ax.set_title('The subspace of $X_{PCA}$\\n(red frame-cells with observed data, yellow-cells which were not omitted')"
   ]
  },
  {
   "cell_type": "code",
   "execution_count": 25,
   "metadata": {},
   "outputs": [],
   "source": [
    "cond = (df_counts['prop'] > 0.000000001) ###OPOSITE DIRECTION #| ((1 - df_counts['prop_RCT']) < t) \n",
    "avg_keys_treated, avg_keys_control = dict(), dict()\n",
    "keys_cond = cond[cond == True].index\n",
    "cc = np.array([])\n",
    "for key in keys_cond:\n",
    "    cc = np.append(cc, dyadic_sample[key])\n",
    "    # temp var\n",
    "    k = (a.iloc[dyadic_sample[key]] == 0).reset_index()\n",
    "    ind_cr = k.loc[(k['training'] == True).values, :]['index']\n",
    "    ind_tr = k.loc[(k['training'] == False).values, :]['index']\n",
    "    avg_keys_treated[key] = np.mean(y.loc[ind_tr])\n",
    "    avg_keys_control[key] = np.mean(y.loc[ind_cr])\n",
    "X_tilde, a_tilde, y_tilde = X.iloc[cc,:], a.iloc[cc], y.iloc[cc]\n",
    "\n",
    "\n",
    "cond = (df_counts['prop'] > 0.01) ###OPOSITE DIRECTION #| ((1 - df_counts['prop_RCT']) < t) \n",
    "avg_keys_cropped_treated, avg_keys_cropped_control = dict(), dict()\n",
    "keys_cond = cond[cond == True].index\n",
    "cc = np.array([])\n",
    "for key in keys_cond:\n",
    "    cc = np.append(cc, dyadic_sample[key])\n",
    "    # temp var\n",
    "    k = (a.iloc[dyadic_sample[key]] == 0).reset_index()\n",
    "    ind_cr = k.loc[(k['training'] == True).values, :]['index']\n",
    "    ind_tr = k.loc[(k['training'] == False).values, :]['index']\n",
    "    avg_keys_cropped_treated[key] = np.mean(y.loc[ind_tr])\n",
    "    avg_keys_cropped_control[key] = np.mean(y.loc[ind_cr])"
   ]
  },
  {
   "cell_type": "code",
   "execution_count": 144,
   "metadata": {
    "collapsed": true
   },
   "outputs": [
    {
     "data": {
      "text/html": [
       "<div>\n",
       "<style scoped>\n",
       "    .dataframe tbody tr th:only-of-type {\n",
       "        vertical-align: middle;\n",
       "    }\n",
       "\n",
       "    .dataframe tbody tr th {\n",
       "        vertical-align: top;\n",
       "    }\n",
       "\n",
       "    .dataframe thead th {\n",
       "        text-align: right;\n",
       "    }\n",
       "</style>\n",
       "<table border=\"1\" class=\"dataframe\">\n",
       "  <thead>\n",
       "    <tr style=\"text-align: right;\">\n",
       "      <th></th>\n",
       "      <th>control</th>\n",
       "      <th>treated</th>\n",
       "    </tr>\n",
       "  </thead>\n",
       "  <tbody>\n",
       "    <tr>\n",
       "      <th>0</th>\n",
       "      <td>9.147626e-07</td>\n",
       "      <td>0.000080</td>\n",
       "    </tr>\n",
       "    <tr>\n",
       "      <th>1</th>\n",
       "      <td>8.385825e-07</td>\n",
       "      <td>0.000078</td>\n",
       "    </tr>\n",
       "    <tr>\n",
       "      <th>2</th>\n",
       "      <td>8.654126e-07</td>\n",
       "      <td>0.000071</td>\n",
       "    </tr>\n",
       "    <tr>\n",
       "      <th>3</th>\n",
       "      <td>1.007724e-06</td>\n",
       "      <td>0.000073</td>\n",
       "    </tr>\n",
       "    <tr>\n",
       "      <th>4</th>\n",
       "      <td>1.126722e-06</td>\n",
       "      <td>0.000076</td>\n",
       "    </tr>\n",
       "    <tr>\n",
       "      <th>...</th>\n",
       "      <td>...</td>\n",
       "      <td>...</td>\n",
       "    </tr>\n",
       "    <tr>\n",
       "      <th>1019</th>\n",
       "      <td>2.835932e-07</td>\n",
       "      <td>0.000013</td>\n",
       "    </tr>\n",
       "    <tr>\n",
       "      <th>1020</th>\n",
       "      <td>2.422506e-07</td>\n",
       "      <td>0.000015</td>\n",
       "    </tr>\n",
       "    <tr>\n",
       "      <th>1021</th>\n",
       "      <td>2.438260e-07</td>\n",
       "      <td>0.000015</td>\n",
       "    </tr>\n",
       "    <tr>\n",
       "      <th>1022</th>\n",
       "      <td>2.253514e-07</td>\n",
       "      <td>0.000017</td>\n",
       "    </tr>\n",
       "    <tr>\n",
       "      <th>1023</th>\n",
       "      <td>2.620561e-07</td>\n",
       "      <td>0.000016</td>\n",
       "    </tr>\n",
       "  </tbody>\n",
       "</table>\n",
       "<p>1024 rows × 2 columns</p>\n",
       "</div>"
      ],
      "text/plain": [
       "           control   treated\n",
       "0     9.147626e-07  0.000080\n",
       "1     8.385825e-07  0.000078\n",
       "2     8.654126e-07  0.000071\n",
       "3     1.007724e-06  0.000073\n",
       "4     1.126722e-06  0.000076\n",
       "...            ...       ...\n",
       "1019  2.835932e-07  0.000013\n",
       "1020  2.422506e-07  0.000015\n",
       "1021  2.438260e-07  0.000015\n",
       "1022  2.253514e-07  0.000017\n",
       "1023  2.620561e-07  0.000016\n",
       "\n",
       "[1024 rows x 2 columns]"
      ]
     },
     "execution_count": 144,
     "metadata": {},
     "output_type": "execute_result"
    }
   ],
   "source": [
    "df"
   ]
  },
  {
   "cell_type": "code",
   "execution_count": 86,
   "metadata": {},
   "outputs": [
    {
     "name": "stdout",
     "output_type": "stream",
     "text": [
      "ATT: -2.180684\n",
      "ATT clipped: -2.180684\n"
     ]
    },
    {
     "data": {
      "text/plain": [
       "Text(0.5, 1.0, 'clipped Weighted Effect per cell\\n(only cell with treated obs)')"
      ]
     },
     "execution_count": 86,
     "metadata": {},
     "output_type": "execute_result"
    },
    {
     "data": {
      "image/png": "[encoded data removed]",
      "text/plain": [
       "<Figure size 1080x720 with 4 Axes>"
      ]
     },
     "metadata": {},
     "output_type": "display_data"
    }
   ],
   "source": [
    "ind = avg_keys_control.keys()\n",
    "eff_unweighted = (pd.Series(avg_keys_treated) - pd.Series(avg_keys_control)).dropna()\n",
    "eff_weigthed_tr = (df['treated'].loc[ind] * pd.Series(avg_keys_treated) - df['treated'].loc[ind] * pd.Series(avg_keys_control)).dropna()\n",
    "\n",
    "eff_unweighted_cropped = (pd.Series(avg_keys_cropped_treated) - pd.Series(avg_keys_cropped_control)).dropna()\n",
    "eff_weigthed_tr_cropped = (df['treated'].loc[ind] * pd.Series(avg_keys_cropped_treated) - df['treated'].loc[ind] * pd.Series(avg_keys_cropped_control)).dropna()\n",
    "\n",
    "\n",
    "print('ATT: {:f}'.format(np.sum(eff_weigthed_tr)))\n",
    "print('ATT clipped: {:f}'.format(np.sum(eff_weigthed_tr_cropped)))\n",
    "\n",
    "\n",
    "fig, ax = plt.subplots(nrows=2, ncols=2, figsize=(15,10))\n",
    "ax[0, 0].scatter(x=np.arange(eff_weigthed_tr.shape[0]), y=eff_unweighted)\n",
    "ax[0, 0].set_title('Effect per cell\\n(only cell with treated obs.)')\n",
    "ax[0, 1].scatter(x=np.arange(eff_weigthed_tr.shape[0]), y=eff_weigthed_tr)\n",
    "ax[0, 1].set_title('Weighted Effect per cell\\n(only cell with treated obs)')\n",
    "\n",
    "ax[1, 0].scatter(x=np.arange(eff_weigthed_tr_cropped.shape[0]), y=eff_unweighted_cropped)\n",
    "ax[1, 0].set_title('clipped Effect per cell\\n(only cell with treated obs.)')\n",
    "ax[1, 1].scatter(x=np.arange(eff_weigthed_tr_cropped.shape[0]), y=eff_weigthed_tr_cropped)\n",
    "ax[1, 1].set_title('clipped Weighted Effect per cell\\n(only cell with treated obs)')"
   ]
  },
  {
   "cell_type": "code",
   "execution_count": 27,
   "metadata": {},
   "outputs": [
    {
     "data": {
      "text/plain": [
       "89     -1188.914620\n",
       "90     -4332.160526\n",
       "91     -5247.420167\n",
       "92     -6296.416142\n",
       "99     -6901.147302\n",
       "100    -8909.077481\n",
       "164    11651.366016\n",
       "dtype: float64"
      ]
     },
     "execution_count": 27,
     "metadata": {},
     "output_type": "execute_result"
    }
   ],
   "source": [
    "eff_unweighted"
   ]
  },
  {
   "cell_type": "code",
   "execution_count": null,
   "metadata": {},
   "outputs": [],
   "source": [
    "# JUST CHECKING\n",
    "\n",
    "\n",
    "def _dyadic_cube_to_samples_checks(X, pt):\n",
    "    min_dyc = pt.arr_med - pt.diff_vec / 2\n",
    "    max_dyc = pt.arr_med + pt.diff_vec / 2\n",
    "    int_mat = pt.arr_ind @ pt.weight_vec\n",
    "    d = dict.fromkeys(int_mat, 0)\n",
    "    if X.shape[1] == 2:\n",
    "        for pt_cell in d:\n",
    "            temp = ((X.iloc[:, 0] < max_dyc[pt_cell, 0]) & (X.iloc[:, 1] < max_dyc[pt_cell, 1])) \\\n",
    "                   & ((X.iloc[:, 0] > min_dyc[pt_cell, 0]) & (X.iloc[:, 1] > min_dyc[pt_cell, 1]))\n",
    "            d[pt_cell] = temp.loc[temp == True].index\n",
    "    else:\n",
    "        for pt_cell in d:\n",
    "            temp = np.where(((X.iloc[:, 0] < max_dyc[pt_cell, 0]) & (X.iloc[:, 1] < max_dyc[pt_cell, 1]) &\n",
    "                                   (X.iloc[:, 2] < max_dyc[pt_cell, 2])) &\n",
    "                                  ((X.iloc[:, 0] > min_dyc[pt_cell, 0]) & (X.iloc[:, 1] > min_dyc[pt_cell, 1]) &\n",
    "                                   (X.iloc[:, 2] > min_dyc[pt_cell, 2])))[0]\n",
    "            d[pt_cell] = temp.loc[temp == True].index\n",
    "    return d\n"
   ]
  },
  {
   "cell_type": "code",
   "execution_count": 118,
   "metadata": {},
   "outputs": [
    {
     "ename": "IndexError",
     "evalue": "index 162 is out of bounds for axis 0 with size 16",
     "output_type": "error",
     "traceback": [
      "\u001b[1;31m---------------------------------------------------------------------------\u001b[0m",
      "\u001b[1;31mIndexError\u001b[0m                                Traceback (most recent call last)",
      "\u001b[1;32m<ipython-input-118-6824d3f2c873>\u001b[0m in \u001b[0;36m<module>\u001b[1;34m\u001b[0m\n\u001b[0;32m      4\u001b[0m \u001b[0md\u001b[0m \u001b[1;33m=\u001b[0m \u001b[0mdict\u001b[0m\u001b[1;33m.\u001b[0m\u001b[0mfromkeys\u001b[0m\u001b[1;33m(\u001b[0m\u001b[0mint_mat\u001b[0m\u001b[1;33m,\u001b[0m \u001b[1;36m0\u001b[0m\u001b[1;33m)\u001b[0m\u001b[1;33m\u001b[0m\u001b[1;33m\u001b[0m\u001b[0m\n\u001b[0;32m      5\u001b[0m \u001b[0mpt_cell\u001b[0m \u001b[1;33m=\u001b[0m \u001b[1;36m162\u001b[0m\u001b[1;33m\u001b[0m\u001b[1;33m\u001b[0m\u001b[0m\n\u001b[1;32m----> 6\u001b[1;33m temp = (((pca_full.iloc[:, 0] < max_dyc[pt_cell, 0]) & (X.iloc[:, 1] < max_dyc[pt_cell, 1]) & \n\u001b[0m\u001b[0;32m      7\u001b[0m         (pca_full.iloc[:, 2] < max_dyc[pt_cell, 2])) & \n\u001b[0;32m      8\u001b[0m ((pca_full.iloc[:, 0] > min_dyc[pt_cell, 0]) & (pca_full.iloc[:, 1] > min_dyc[pt_cell, 1]) &\n",
      "\u001b[1;31mIndexError\u001b[0m: index 162 is out of bounds for axis 0 with size 16"
     ]
    }
   ],
   "source": [
    "min_dyc = pt.arr_med - pt.diff_vec / 2\n",
    "max_dyc = pt.arr_med + pt.diff_vec / 2\n",
    "int_mat = pt.arr_ind @ pt.weight_vec\n",
    "d = dict.fromkeys(int_mat, 0)\n",
    "pt_cell = 162\n",
    "temp = (((pca_full.iloc[:, 0] < max_dyc[pt_cell, 0]) & (X.iloc[:, 1] < max_dyc[pt_cell, 1]) & \n",
    "        (pca_full.iloc[:, 2] < max_dyc[pt_cell, 2])) & \n",
    "((pca_full.iloc[:, 0] > min_dyc[pt_cell, 0]) & (pca_full.iloc[:, 1] > min_dyc[pt_cell, 1]) &\n",
    "                       (pca_full.iloc[:, 2] > min_dyc[pt_cell, 2])))\n",
    "np.sum(temp)"
   ]
  },
  {
   "cell_type": "code",
   "execution_count": 132,
   "metadata": {},
   "outputs": [],
   "source": [
    "from causallib.estimation import IPW\n",
    "learner = LogisticRegression(penalty='none',  # No regularization, new in scikit-learn 0.21.*\n",
    "                             solver='lbfgs',\n",
    "                             max_iter=500)   \n",
    "ipw = IPW(learner)\n",
    "\n",
    "est = StratifiedStandardization(LinearRegression())\n",
    "\n",
    "\n",
    "avg_outcome_dict = defaultdict(dict)\n",
    "th = np.linspace(0, 0.025, 70)\n",
    "for t in th:\n",
    "    cond = (df_counts['prop'] < t) #| ((1 - df_counts['prop_RCT']) < t) \n",
    "    keys_cond = cond[cond == True].index\n",
    "    cc = np.array([])\n",
    "    for key in keys_cond:\n",
    "        cc = np.append(cc, dyadic_sample[key])\n",
    "    X_tilde, a_tilde, y_tilde = X.drop(index=cc), a.drop(index=cc), y.drop(index=cc)\n",
    "    est.fit(X=X_tilde, a=a_tilde, y=y_tilde)\n",
    "    ipw.fit(X=X_tilde, a=a_tilde)\n",
    "    avg_outcomes = est.estimate_population_outcome(X_tilde, a_tilde)\n",
    "    outcomes_ipw = ipw.estimate_population_outcome(X_tilde, a_tilde, y_tilde)\n",
    "    avg_outcome_dict['control'][t] = avg_outcomes.iloc[0]\n",
    "    avg_outcome_dict['treatment'][t] = avg_outcomes.iloc[1]\n",
    "    avg_outcome_dict['control_ipw'][t] = outcomes_ipw.iloc[0]\n",
    "    avg_outcome_dict['treatment_ipw'][t] = outcomes_ipw.iloc[1]\n",
    "df_avg_outcomes = pd.DataFrame.from_dict(avg_outcome_dict)\n",
    "# avg_outcomes"
   ]
  }
 ],
 "metadata": {
  "kernelspec": {
   "display_name": "Python 3",
   "language": "python",
   "name": "python3"
  },
  "language_info": {
   "codemirror_mode": {
    "name": "ipython",
    "version": 3
   },
   "file_extension": ".py",
   "mimetype": "text/x-python",
   "name": "python",
   "nbconvert_exporter": "python",
   "pygments_lexer": "ipython3",
   "version": "3.7.9"
  }
 },
 "nbformat": 4,
 "nbformat_minor": 4
}
